{
 "cells": [
  {
   "cell_type": "code",
   "execution_count": 1,
   "metadata": {},
   "outputs": [],
   "source": [
    "import json"
   ]
  },
  {
   "cell_type": "code",
   "execution_count": 2,
   "metadata": {},
   "outputs": [],
   "source": [
    "with open('./Corona2.json') as f:\n",
    "  annotation = json.load(f)"
   ]
  },
  {
   "cell_type": "code",
   "execution_count": 3,
   "metadata": {},
   "outputs": [],
   "source": [
    "TRAIN_DATA  = []\n",
    "for e in annotation[\"examples\"]:\n",
    "    content = e[\"content\"]\n",
    "    entities = []\n",
    "    for an in e[\"annotations\"]:\n",
    "        if len(an[\"value\"]) == len(an[\"value\"].strip()):\n",
    "            if (len(an['human_annotations']) == 0) or(an['tag_name']!='MedicalCondition'\\\n",
    "             and an['tag_name']!='Medicine'):\n",
    "                continue\n",
    "            info = (an[\"start\"],an[\"end\"],an[\"tag_name\"])\n",
    "            entities.append(info)\n",
    "            #print(an[\"start\"],an[\"end\"],an[\"tag_name\"])\n",
    "    if len(entities) > 0:\n",
    "        TRAIN_DATA.append(([content,{\"entities\":entities}]))"
   ]
  },
  {
   "cell_type": "code",
   "execution_count": 4,
   "metadata": {},
   "outputs": [
    {
     "data": {
      "text/plain": [
       "(\"While bismuth compounds (Pepto-Bismol) decreased the number of bowel movements in those with travelers' diarrhea, they do not decrease the length of illness.[91] Anti-motility agents like loperamide are also effective at reducing the number of stools but not the duration of disease.[8] These agents should be used only if bloody diarrhea is not present.[92]\\n\\nDiosmectite, a natural aluminomagnesium silicate clay, is effective in alleviating symptoms of acute diarrhea in children,[93] and also has some effects in chronic functional diarrhea, radiation-induced diarrhea, and chemotherapy-induced diarrhea.[45] Another absorbent agent used for the treatment of mild diarrhea is kaopectate.\\n\\nRacecadotril an antisecretory medication may be used to treat diarrhea in children and adults.[86] It has better tolerability than loperamide, as it causes less constipation and flatulence.[94]\",\n",
       " 26)"
      ]
     },
     "execution_count": 4,
     "metadata": {},
     "output_type": "execute_result"
    }
   ],
   "source": [
    "TRAIN_DATA[0][0],len(TRAIN_DATA)"
   ]
  },
  {
   "cell_type": "code",
   "execution_count": 5,
   "metadata": {},
   "outputs": [],
   "source": [
    "import re\n",
    "def clean_text(text):\n",
    "  cleaned_text = re.sub(r'\\[[0-9]*\\]','',text)\n",
    "  cleaned_text = re.sub(r\"'?\",\"\", cleaned_text)\n",
    "  cleaned_text = re.sub(r\"'s\\b\",\"\", cleaned_text)\n",
    "  cleaned_text = re.sub(r\"\\(?\\)?\",\"\", cleaned_text)\n",
    "  cleaned_text = re.sub(r'[^a-zA-Z]',\" \", cleaned_text).strip()\n",
    "  return cleaned_text"
   ]
  },
  {
   "cell_type": "code",
   "execution_count": 6,
   "metadata": {},
   "outputs": [
    {
     "data": {
      "text/plain": [
       "'While bismuth compounds Pepto Bismol decreased the number of bowel movements in those with travelers diarrhea  they do not decrease the length of illness  Anti motility agents like loperamide are also effective at reducing the number of stools but not the duration of disease  These agents should be used only if bloody diarrhea is not present   Diosmectite  a natural aluminomagnesium silicate clay  is effective in alleviating symptoms of acute diarrhea in children  and also has some effects in chronic functional diarrhea  radiation induced diarrhea  and chemotherapy induced diarrhea  Another absorbent agent used for the treatment of mild diarrhea is kaopectate   Racecadotril an antisecretory medication may be used to treat diarrhea in children and adults  It has better tolerability than loperamide  as it causes less constipation and flatulence'"
      ]
     },
     "execution_count": 6,
     "metadata": {},
     "output_type": "execute_result"
    }
   ],
   "source": [
    "clean_text(TRAIN_DATA[0][0])"
   ]
  },
  {
   "cell_type": "code",
   "execution_count": 7,
   "metadata": {},
   "outputs": [
    {
     "name": "stdout",
     "output_type": "stream",
     "text": [
      "While bismuth compounds Pepto Bismol decreased the number of bowel movements in those with travelers diarrhea  they do not decrease the length of illness  Anti motility agents like loperamide are also effective at reducing the number of stools but not the duration of disease  These agents should be used only if bloody diarrhea is not present   Diosmectite  a natural aluminomagnesium silicate clay  is effective in alleviating symptoms of acute diarrhea in children  and also has some effects in chronic functional diarrhea  radiation induced diarrhea  and chemotherapy induced diarrhea  Another absorbent agent used for the treatment of mild diarrhea is kaopectate   Racecadotril an antisecretory medication may be used to treat diarrhea in children and adults  It has better tolerability than loperamide  as it causes less constipation and flatulence\n",
      "\n",
      "Diarrhea  also spelled diarrhoea  is the condition of having at least three loose  liquid  or watery bowel movements each day  It often lasts for a few days and can result in dehydration due to fluid loss  Signs of dehydration often begin with loss of the normal stretchiness of the skin and irritable behaviour  This can progress to decreased urination  loss of skin color  a fast heart rate  and a decrease in responsiveness as it becomes more severe  Loose but non watery stools in babies who are exclusively breastfed  however  are normal\n",
      "\n",
      "Antiretroviral therapy ART is recommended for all HIV infected individuals to reduce the risk of disease progression  ART also is recommended for HIV infected individuals for the prevention of transmission of HIV  Patients starting ART should be willing and able to commit to treatment and understand the benefits and risks of therapy and the importance of adherence  Patients may choose to postpone therapy  and providers  on a case by case basis  may elect to defer therapy on the basis of clinical and or psychosocial factors\n",
      "\n",
      "The following drugs are considered as DMARDs  methotrexate  hydroxychloroquine  sulfasalazine  leflunomide  TNF alpha inhibitors certolizumab  infliximab and etanercept  abatacept  and anakinra  Rituximab and tocilizumab are monoclonal antibodies and are also DMARDs  Use of tocilizumab is associated with a risk of increased cholesterol levels   Hydroxychloroquine  apart from its low toxicity profile  is considered effective in the moderate RA treatment   The most commonly used agent is methotrexate with other frequently used agents including sulfasalazine and leflunomide  Leflunomide is effective when used from      months  with similar effectiveness to methotrexate when used for   years  Sulfasalazine also appears to be most effective in the short term treatment of rheumatoid arthritis  Sodium aurothiomalate gold and cyclosporin are less commonly used due to more common adverse effects  However  cyclosporin was found to be effective in the progressive RA when used up to one year  Agents may be used in combinations however  people may experience greater side effects  Methotrexate is the most important and useful DMARD and is usually the first treatment  A combined approach with methotrexate and biologics improves ACR    HAQ scores and RA remission rates  Triple therapy consisting of methotrexate  sulfasalazine and hydroxychloroquine may also effectively control disease activity  Adverse effects should be monitored regularly with toxicity including gastrointestinal  hematologic  pulmonary  and hepatic  Side effects such as nausea  vomiting or abdominal pain can be reduced by taking folic acid\n",
      "\n",
      "The goals of treatment are to reduce pain  decrease inflammation  and improve a persons overall functioning  This may be helped by balancing rest and exercise  the use of splints and braces  or the use of assistive devices  Pain medications  steroids  and NSAIDs are frequently used to help with symptoms  Disease modifying antirheumatic drugs DMARDs  such as hydroxychloroquine and methotrexate  may be used to try to slow the progression of disease  Biological DMARDs may be used when disease does not respond to other treatments  However  they may have a greater rate of adverse effects  Surgery to repair  replace  or fuse joints may help in certain situations  Most alternative medicine treatments are not supported by evidence\n",
      "\n",
      "Bats are the most common source of rabies in humans in North and South America  Western Europe  and Australia  In the United States  there were    cases of human rabies from               of which were attributed to bats  In North America  about half of human rabies instances are cryptic  meaning that the patient has no known bite history  While it has been speculated that rabies virus could be transmitted through aerosols  studies of the rabies virus have concluded that this is only feasible in limited conditions  These conditions include a very large colony of bats in a hot and humid cave with poor ventilation  While two human deaths in      and      had been tentatively attributed to aerosolization of the rabies virus after entering a cave with bats   investigations of the   reported human cases revealed that both infections could be explained by means other than aerosol transmission   It is instead generally thought that most instances of cryptic rabies are the result of an unknown bat bite  Bites from a bat can be so small that they are not visible without magnification equipment  for example  Outside of bites  rabies virus exposure can also occur if infected fluids come in contact with a mucous membrane or a break in the skin  Rabies virus has also been transmitted when an infected human unknowingly dies of rabies  and their organs are transplanted to others\n",
      "\n",
      "In       following the outbreak of severe acute respiratory syndrome SARS which had begun the prior year in Asia  and secondary cases elsewhere in the world  the World Health Organization WHO issued a press release stating that a novel coronavirus identified by a number of laboratories was the causative agent for SARS  The virus was officially named the SARS coronavirus SARS CoV  More than       people were infected  about ten percent of whom died\n",
      "\n",
      "Bacterial vaginosis is caused by bacteria that change the vaginal microbiota caused by an overgrowth of bacteria that crowd out the Lactobacilli species that maintain healthy vaginal microbial populations  Other non bacterial vaginal infections include  yeast infection candidiasis  Trichomonas vaginalis trichomoniasis  Bacterial meningitis is a bacterial inflammation of the meninges  that is  the protective membranes covering the brain and spinal cord  Bacterial pneumonia is a bacterial infection of the lungs  Urinary tract infection is predominantly caused by bacteria  Symptoms include the strong and frequent sensation or urge to urinate  pain during urination  and urine that is cloudy  The main causal agent is Escherichia coli  Urine is typically sterile but contains a variety of salts  and waste products  Bacteria can ascend into the bladder or kidney and causing cystitis and nephritis  Bacterial gastroenteritis is caused by enteric  pathogenic bacteria  These pathogenic species are usually distinct from the usually harmless bacteria of the normal gut flora  But a different strain of the same species may be pathogenic  The distinction is sometimes difficult as in the case of Escherichia  Bacterial skin infections include  Impetigo is a highly contagious bacterial skin infection commonly seen in children  It is caused by Staphylococcus aureus  and Streptococcus pyogenes  Erysipelas is an acute streptococcus bacterial infection of the deeper skin layers that spreads via with lymphatic system  Cellulitis is a diffuse inflammation of connective tissue with severe inflammation of dermal and subcutaneous layers of the skin  Cellulitis can be caused by normal skin flora or by contagious contact  and usually occurs through open skin  cuts  blisters  cracks in the skin  insect bites  animal bites  burns  surgical wounds  intravenous drug injection  or sites of intravenous catheter insertion  In most cases it is the skin on the face or lower legs that is affected  though cellulitis can occur in other tissues\n",
      "\n",
      "One of the bacterial diseases with the highest disease burden is tuberculosis  caused by Mycobacterium tuberculosis bacteria  which kills about   million people a year  mostly in sub Saharan Africa  Pathogenic bacteria contribute to other globally important diseases  such as pneumonia  which can be caused by bacteria such as Streptococcus and Pseudomonas  and foodborne illnesses  which can be caused by bacteria such as Shigella  Campylobacter  and Salmonella  Pathogenic bacteria also cause infections such as tetanus  typhoid fever  diphtheria  syphilis  and leprosy  Pathogenic bacteria are also the cause of high infant mortality rates in developing countries\n",
      "\n",
      "Although the vast majority of bacteria are harmless or beneficial to ones body  a few pathogenic bacteria can cause infectious diseases  The most common bacterial disease is tuberculosis  caused by the bacterium Mycobacterium tuberculosis  which affects about   million people mostly in sub Saharan Africa  Pathogenic bacteria contribute to other globally important diseases  such as pneumonia  which can be caused by bacteria such as Streptococcus and Pseudomonas  and foodborne illnesses  which can be caused by bacteria such as Shigella  Campylobacter  and Salmonella  Pathogenic bacteria also cause infections such as tetanus  typhoid fever  diphtheria  syphilis  and Hansens disease  They typically range between   and   micrometers in length\n",
      "\n"
     ]
    }
   ],
   "source": [
    "cleaned_text = [clean_text(i[0]) for i in TRAIN_DATA]\n",
    "for i in range(10):\n",
    "  print(cleaned_text[i])\n",
    "  print()"
   ]
  },
  {
   "cell_type": "code",
   "execution_count": 8,
   "metadata": {},
   "outputs": [
    {
     "data": {
      "text/plain": [
       "[(6, 23, 'Medicine'),\n",
       " (25, 37, 'Medicine'),\n",
       " (104, 112, 'MedicalCondition'),\n",
       " (188, 198, 'Medicine'),\n",
       " (360, 371, 'Medicine'),\n",
       " (383, 408, 'Medicine'),\n",
       " (461, 469, 'MedicalCondition'),\n",
       " (535, 543, 'MedicalCondition'),\n",
       " (563, 571, 'MedicalCondition'),\n",
       " (577, 589, 'Medicine'),\n",
       " (679, 689, 'Medicine'),\n",
       " (692, 704, 'Medicine'),\n",
       " (754, 762, 'MedicalCondition'),\n",
       " (823, 833, 'Medicine'),\n",
       " (853, 865, 'MedicalCondition'),\n",
       " (870, 880, 'MedicalCondition')]"
      ]
     },
     "execution_count": 8,
     "metadata": {},
     "output_type": "execute_result"
    }
   ],
   "source": [
    "sorted(TRAIN_DATA[0][1]['entities'])"
   ]
  },
  {
   "cell_type": "code",
   "execution_count": 9,
   "metadata": {},
   "outputs": [
    {
     "name": "stdout",
     "output_type": "stream",
     "text": [
      "['While', 'bismuth', 'compounds', 'Pepto', 'Bismol', 'decreased', 'the', 'number', 'of', 'bowel', 'movements', 'in', 'those', 'with', 'travelers', 'diarrhea', 'they', 'do', 'not', 'decrease', 'the', 'length', 'of', 'illness', 'Anti', 'motility', 'agents', 'like', 'loperamide', 'are', 'also', 'effective', 'at', 'reducing', 'the', 'number', 'of', 'stools', 'but', 'not', 'the', 'duration', 'of', 'disease', 'These', 'agents', 'should', 'be', 'used', 'only', 'if', 'bloody', 'diarrhea', 'is', 'not', 'present', 'Diosmectite', 'a', 'natural', 'aluminomagnesium', 'silicate', 'clay', 'is', 'effective', 'in', 'alleviating', 'symptoms', 'of', 'acute', 'diarrhea', 'in', 'children', 'and', 'also', 'has', 'some', 'effects', 'in', 'chronic', 'functional', 'diarrhea', 'radiation', 'induced', 'diarrhea', 'and', 'chemotherapy', 'induced', 'diarrhea', 'Another', 'absorbent', 'agent', 'used', 'for', 'the', 'treatment', 'of', 'mild', 'diarrhea', 'is', 'kaopectate', 'Racecadotril', 'an', 'antisecretory', 'medication', 'may', 'be', 'used', 'to', 'treat', 'diarrhea', 'in', 'children', 'and', 'adults', 'It', 'has', 'better', 'tolerability', 'than', 'loperamide', 'as', 'it', 'causes', 'less', 'constipation', 'and', 'flatulence']\n"
     ]
    }
   ],
   "source": [
    "print(cleaned_text[0].split())"
   ]
  },
  {
   "cell_type": "code",
   "execution_count": 10,
   "metadata": {},
   "outputs": [],
   "source": [
    "count = 0\n",
    "def tagging(text, training_ex):\n",
    "  global count\n",
    "  tags = \"\"\n",
    "  tags = ['O' for _ in range(len(text.split()))]\n",
    "\n",
    "  text_list = text.split()\n",
    "  # print(text_list)\n",
    "\n",
    "  entites = training_ex[1]['entities']\n",
    "  training_text = training_ex[0]\n",
    "  for tag in entites:\n",
    "    temp = clean_text(training_text[tag[0]:tag[1]]).split()\n",
    "\n",
    "    tag_name = 'med' if (tag[2] == 'Medicine') else 'diag'\n",
    "\n",
    "    for i in range(len(temp)):\n",
    "      count += 1\n",
    "      idx = text_list.index(temp[i])\n",
    "\n",
    "      tags[idx] = 'B-' + tag_name if (not i) else 'I-' + tag_name\n",
    "      # print(tags[idx], text_list[idx])\n",
    "  final_tags = ' '.join([str(elm) for elm in tags])\n",
    "  final_tags = final_tags.strip().replace(' ', ',')\n",
    "  # print(final_tags)\n",
    "  return final_tags"
   ]
  },
  {
   "cell_type": "code",
   "execution_count": 11,
   "metadata": {},
   "outputs": [
    {
     "data": {
      "text/plain": [
       "'O,B-med,I-med,B-med,I-med,O,O,O,O,O,O,O,O,O,O,B-diag,O,O,O,O,O,O,O,O,O,O,O,O,B-med,O,O,O,O,O,O,O,O,O,O,O,O,O,O,O,O,O,O,O,O,O,O,O,O,O,O,O,B-med,O,O,B-med,I-med,O,O,O,O,O,O,O,O,O,O,O,O,O,O,O,O,O,O,O,O,O,O,O,O,B-med,O,O,O,O,O,O,O,O,O,O,O,O,O,B-med,B-med,O,O,O,O,O,O,O,O,O,O,O,O,O,O,O,O,O,O,O,O,O,O,O,B-diag,O,B-diag'"
      ]
     },
     "execution_count": 11,
     "metadata": {},
     "output_type": "execute_result"
    }
   ],
   "source": [
    "tags = [tagging(cleaned_text[i],TRAIN_DATA[i]) for i in range(len(TRAIN_DATA))]\n",
    "tags[0]"
   ]
  },
  {
   "cell_type": "code",
   "execution_count": 12,
   "metadata": {},
   "outputs": [
    {
     "data": {
      "text/plain": [
       "(26, 2)"
      ]
     },
     "execution_count": 12,
     "metadata": {},
     "output_type": "execute_result"
    }
   ],
   "source": [
    "import pandas as pd\n",
    "df = pd.DataFrame({'text': cleaned_text,'tags': tags})\n",
    "df.shape"
   ]
  },
  {
   "cell_type": "code",
   "execution_count": 13,
   "metadata": {},
   "outputs": [],
   "source": [
    "df.to_csv('./data.csv')"
   ]
  },
  {
   "cell_type": "code",
   "execution_count": 14,
   "metadata": {},
   "outputs": [
    {
     "data": {
      "text/html": [
       "<div>\n",
       "<style scoped>\n",
       "    .dataframe tbody tr th:only-of-type {\n",
       "        vertical-align: middle;\n",
       "    }\n",
       "\n",
       "    .dataframe tbody tr th {\n",
       "        vertical-align: top;\n",
       "    }\n",
       "\n",
       "    .dataframe thead th {\n",
       "        text-align: right;\n",
       "    }\n",
       "</style>\n",
       "<table border=\"1\" class=\"dataframe\">\n",
       "  <thead>\n",
       "    <tr style=\"text-align: right;\">\n",
       "      <th></th>\n",
       "      <th>text</th>\n",
       "      <th>tags</th>\n",
       "    </tr>\n",
       "  </thead>\n",
       "  <tbody>\n",
       "    <tr>\n",
       "      <th>0</th>\n",
       "      <td>While bismuth compounds Pepto Bismol decreased...</td>\n",
       "      <td>O,B-med,I-med,B-med,I-med,O,O,O,O,O,O,O,O,O,O,...</td>\n",
       "    </tr>\n",
       "    <tr>\n",
       "      <th>1</th>\n",
       "      <td>Diarrhea  also spelled diarrhoea  is the condi...</td>\n",
       "      <td>B-diag,O,O,B-diag,O,O,O,I-diag,O,O,O,O,O,O,O,B...</td>\n",
       "    </tr>\n",
       "    <tr>\n",
       "      <th>2</th>\n",
       "      <td>Antiretroviral therapy ART is recommended for ...</td>\n",
       "      <td>B-med,I-med,B-med,O,O,O,O,O,O,O,O,O,O,O,O,O,O,...</td>\n",
       "    </tr>\n",
       "    <tr>\n",
       "      <th>3</th>\n",
       "      <td>The following drugs are considered as DMARDs  ...</td>\n",
       "      <td>O,O,O,O,O,O,B-med,B-med,B-med,B-med,B-med,B-me...</td>\n",
       "    </tr>\n",
       "    <tr>\n",
       "      <th>4</th>\n",
       "      <td>The goals of treatment are to reduce pain  dec...</td>\n",
       "      <td>O,O,O,O,O,O,O,O,O,O,O,O,O,O,O,O,O,O,O,O,O,O,O,...</td>\n",
       "    </tr>\n",
       "    <tr>\n",
       "      <th>5</th>\n",
       "      <td>Bats are the most common source of rabies in h...</td>\n",
       "      <td>O,O,O,O,O,O,O,B-diag,O,O,O,O,O,O,O,O,O,O,O,O,O...</td>\n",
       "    </tr>\n",
       "    <tr>\n",
       "      <th>6</th>\n",
       "      <td>In       following the outbreak of severe acut...</td>\n",
       "      <td>O,O,O,O,O,B-diag,I-diag,I-diag,I-diag,B-diag,O...</td>\n",
       "    </tr>\n",
       "    <tr>\n",
       "      <th>7</th>\n",
       "      <td>Bacterial vaginosis is caused by bacteria that...</td>\n",
       "      <td>O,O,O,O,O,O,O,O,I-diag,B-diag,O,O,O,O,O,O,O,O,...</td>\n",
       "    </tr>\n",
       "    <tr>\n",
       "      <th>8</th>\n",
       "      <td>One of the bacterial diseases with the highest...</td>\n",
       "      <td>O,O,O,O,O,O,O,O,O,O,O,B-diag,O,O,O,O,O,O,O,O,O...</td>\n",
       "    </tr>\n",
       "    <tr>\n",
       "      <th>9</th>\n",
       "      <td>Although the vast majority of bacteria are har...</td>\n",
       "      <td>O,O,O,O,O,O,O,O,O,O,O,O,O,O,O,O,O,O,O,O,O,O,O,...</td>\n",
       "    </tr>\n",
       "    <tr>\n",
       "      <th>10</th>\n",
       "      <td>Much like viral pathogens  infection by certai...</td>\n",
       "      <td>O,O,O,O,O,O,O,O,O,O,O,O,O,O,O,O,O,O,O,O,B-med,...</td>\n",
       "    </tr>\n",
       "    <tr>\n",
       "      <th>11</th>\n",
       "      <td>Some antidepressants are used as a treatment f...</td>\n",
       "      <td>O,O,O,O,O,O,O,O,B-diag,B-diag,I-diag,O,O,O,O,O...</td>\n",
       "    </tr>\n",
       "    <tr>\n",
       "      <th>12</th>\n",
       "      <td>However  existing data suggest that patients t...</td>\n",
       "      <td>O,O,O,O,O,O,O,B-med,O,O,O,O,B-med,I-med,O,O,O,...</td>\n",
       "    </tr>\n",
       "    <tr>\n",
       "      <th>13</th>\n",
       "      <td>Latent TB is treated with either isoniazid or ...</td>\n",
       "      <td>O,O,O,O,O,O,B-med,O,B-med,O,O,O,O,O,O,O,O,B-me...</td>\n",
       "    </tr>\n",
       "    <tr>\n",
       "      <th>14</th>\n",
       "      <td>If a tuberculosis infection does become active...</td>\n",
       "      <td>O,O,O,O,O,O,O,O,O,O,O,O,O,O,O,O,O,O,O,O,B-diag...</td>\n",
       "    </tr>\n",
       "    <tr>\n",
       "      <th>15</th>\n",
       "      <td>In        of active cases  the infection sprea...</td>\n",
       "      <td>O,O,O,O,O,I-diag,O,O,O,O,O,O,O,O,O,O,O,O,O,O,B...</td>\n",
       "    </tr>\n",
       "    <tr>\n",
       "      <th>16</th>\n",
       "      <td>Although viruses cause disruption of healthy h...</td>\n",
       "      <td>O,O,O,O,O,O,O,O,O,O,O,O,O,O,O,O,O,O,O,O,O,O,O,...</td>\n",
       "    </tr>\n",
       "    <tr>\n",
       "      <th>17</th>\n",
       "      <td>Examples of common human diseases caused by vi...</td>\n",
       "      <td>O,O,O,O,O,O,O,O,O,O,O,O,I-diag,B-diag,O,O,O,O,...</td>\n",
       "    </tr>\n",
       "    <tr>\n",
       "      <th>18</th>\n",
       "      <td>All medical applications known so far involve ...</td>\n",
       "      <td>O,O,O,O,O,O,O,O,O,B-med,O,O,O,O,O,O,O,O,O,O,O,...</td>\n",
       "    </tr>\n",
       "    <tr>\n",
       "      <th>19</th>\n",
       "      <td>Buprenorphine has been shown experimentally   ...</td>\n",
       "      <td>B-med,O,O,O,O,O,O,O,O,O,B-diag,I-diag</td>\n",
       "    </tr>\n",
       "    <tr>\n",
       "      <th>20</th>\n",
       "      <td>Gabapentin  approved for treatment of seizures...</td>\n",
       "      <td>B-med,O,O,O,O,B-diag,O,B-diag,I-diag,O,O,O,O,O...</td>\n",
       "    </tr>\n",
       "    <tr>\n",
       "      <th>21</th>\n",
       "      <td>Bupropion Wellbutrin  an anti depressant  is a...</td>\n",
       "      <td>B-med,B-med,O,O,O,O,O,O,O,O,O,O,O,O,O,O,O,O,O,...</td>\n",
       "    </tr>\n",
       "    <tr>\n",
       "      <th>22</th>\n",
       "      <td>Carbamazepine is an approved treatment for bip...</td>\n",
       "      <td>B-med,O,O,O,O,O,B-diag,I-diag,O,B-diag,I-diag,...</td>\n",
       "    </tr>\n",
       "    <tr>\n",
       "      <th>23</th>\n",
       "      <td>The antiviral drugs amantadine and rimantadine...</td>\n",
       "      <td>O,O,O,B-med,O,B-med,O,O,O,O,O,B-med,O,O,O,O,O,...</td>\n",
       "    </tr>\n",
       "    <tr>\n",
       "      <th>24</th>\n",
       "      <td>The two classes of antiviral drugs used agains...</td>\n",
       "      <td>O,O,O,O,O,O,O,O,B-diag,O,O,O,B-med,B-med,B-med...</td>\n",
       "    </tr>\n",
       "    <tr>\n",
       "      <th>25</th>\n",
       "      <td>Influenza  commonly known as  the flu   is an ...</td>\n",
       "      <td>B-diag,O,O,O,O,I-diag,O,O,O,O,O,O,O,O,O,O,O,O,...</td>\n",
       "    </tr>\n",
       "  </tbody>\n",
       "</table>\n",
       "</div>"
      ],
      "text/plain": [
       "                                                 text  \\\n",
       "0   While bismuth compounds Pepto Bismol decreased...   \n",
       "1   Diarrhea  also spelled diarrhoea  is the condi...   \n",
       "2   Antiretroviral therapy ART is recommended for ...   \n",
       "3   The following drugs are considered as DMARDs  ...   \n",
       "4   The goals of treatment are to reduce pain  dec...   \n",
       "5   Bats are the most common source of rabies in h...   \n",
       "6   In       following the outbreak of severe acut...   \n",
       "7   Bacterial vaginosis is caused by bacteria that...   \n",
       "8   One of the bacterial diseases with the highest...   \n",
       "9   Although the vast majority of bacteria are har...   \n",
       "10  Much like viral pathogens  infection by certai...   \n",
       "11  Some antidepressants are used as a treatment f...   \n",
       "12  However  existing data suggest that patients t...   \n",
       "13  Latent TB is treated with either isoniazid or ...   \n",
       "14  If a tuberculosis infection does become active...   \n",
       "15  In        of active cases  the infection sprea...   \n",
       "16  Although viruses cause disruption of healthy h...   \n",
       "17  Examples of common human diseases caused by vi...   \n",
       "18  All medical applications known so far involve ...   \n",
       "19  Buprenorphine has been shown experimentally   ...   \n",
       "20  Gabapentin  approved for treatment of seizures...   \n",
       "21  Bupropion Wellbutrin  an anti depressant  is a...   \n",
       "22  Carbamazepine is an approved treatment for bip...   \n",
       "23  The antiviral drugs amantadine and rimantadine...   \n",
       "24  The two classes of antiviral drugs used agains...   \n",
       "25  Influenza  commonly known as  the flu   is an ...   \n",
       "\n",
       "                                                 tags  \n",
       "0   O,B-med,I-med,B-med,I-med,O,O,O,O,O,O,O,O,O,O,...  \n",
       "1   B-diag,O,O,B-diag,O,O,O,I-diag,O,O,O,O,O,O,O,B...  \n",
       "2   B-med,I-med,B-med,O,O,O,O,O,O,O,O,O,O,O,O,O,O,...  \n",
       "3   O,O,O,O,O,O,B-med,B-med,B-med,B-med,B-med,B-me...  \n",
       "4   O,O,O,O,O,O,O,O,O,O,O,O,O,O,O,O,O,O,O,O,O,O,O,...  \n",
       "5   O,O,O,O,O,O,O,B-diag,O,O,O,O,O,O,O,O,O,O,O,O,O...  \n",
       "6   O,O,O,O,O,B-diag,I-diag,I-diag,I-diag,B-diag,O...  \n",
       "7   O,O,O,O,O,O,O,O,I-diag,B-diag,O,O,O,O,O,O,O,O,...  \n",
       "8   O,O,O,O,O,O,O,O,O,O,O,B-diag,O,O,O,O,O,O,O,O,O...  \n",
       "9   O,O,O,O,O,O,O,O,O,O,O,O,O,O,O,O,O,O,O,O,O,O,O,...  \n",
       "10  O,O,O,O,O,O,O,O,O,O,O,O,O,O,O,O,O,O,O,O,B-med,...  \n",
       "11  O,O,O,O,O,O,O,O,B-diag,B-diag,I-diag,O,O,O,O,O...  \n",
       "12  O,O,O,O,O,O,O,B-med,O,O,O,O,B-med,I-med,O,O,O,...  \n",
       "13  O,O,O,O,O,O,B-med,O,B-med,O,O,O,O,O,O,O,O,B-me...  \n",
       "14  O,O,O,O,O,O,O,O,O,O,O,O,O,O,O,O,O,O,O,O,B-diag...  \n",
       "15  O,O,O,O,O,I-diag,O,O,O,O,O,O,O,O,O,O,O,O,O,O,B...  \n",
       "16  O,O,O,O,O,O,O,O,O,O,O,O,O,O,O,O,O,O,O,O,O,O,O,...  \n",
       "17  O,O,O,O,O,O,O,O,O,O,O,O,I-diag,B-diag,O,O,O,O,...  \n",
       "18  O,O,O,O,O,O,O,O,O,B-med,O,O,O,O,O,O,O,O,O,O,O,...  \n",
       "19              B-med,O,O,O,O,O,O,O,O,O,B-diag,I-diag  \n",
       "20  B-med,O,O,O,O,B-diag,O,B-diag,I-diag,O,O,O,O,O...  \n",
       "21  B-med,B-med,O,O,O,O,O,O,O,O,O,O,O,O,O,O,O,O,O,...  \n",
       "22  B-med,O,O,O,O,O,B-diag,I-diag,O,B-diag,I-diag,...  \n",
       "23  O,O,O,B-med,O,B-med,O,O,O,O,O,B-med,O,O,O,O,O,...  \n",
       "24  O,O,O,O,O,O,O,O,B-diag,O,O,O,B-med,B-med,B-med...  \n",
       "25  B-diag,O,O,O,O,I-diag,O,O,O,O,O,O,O,O,O,O,O,O,...  "
      ]
     },
     "execution_count": 14,
     "metadata": {},
     "output_type": "execute_result"
    }
   ],
   "source": [
    "df"
   ]
  },
  {
   "cell_type": "code",
   "execution_count": 15,
   "metadata": {},
   "outputs": [
    {
     "data": {
      "text/plain": [
       "286"
      ]
     },
     "execution_count": 15,
     "metadata": {},
     "output_type": "execute_result"
    }
   ],
   "source": [
    "count"
   ]
  },
  {
   "cell_type": "code",
   "execution_count": null,
   "metadata": {},
   "outputs": [],
   "source": []
  }
 ],
 "metadata": {
  "kernelspec": {
   "display_name": "Python 3.11.5 ('base')",
   "language": "python",
   "name": "python3"
  },
  "language_info": {
   "codemirror_mode": {
    "name": "ipython",
    "version": 3
   },
   "file_extension": ".py",
   "mimetype": "text/x-python",
   "name": "python",
   "nbconvert_exporter": "python",
   "pygments_lexer": "ipython3",
   "version": "3.11.5"
  },
  "orig_nbformat": 4,
  "vscode": {
   "interpreter": {
    "hash": "a3ff891de104f34902320d5a471fba75660d2839994b15e30fd656f3c3698ebf"
   }
  }
 },
 "nbformat": 4,
 "nbformat_minor": 2
}
